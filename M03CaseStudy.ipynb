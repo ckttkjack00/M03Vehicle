{
 "cells": [
  {
   "cell_type": "code",
   "execution_count": null,
   "id": "f0cebee5-ef42-4e42-893d-329418e0b725",
   "metadata": {},
   "outputs": [
    {
     "name": "stdin",
     "output_type": "stream",
     "text": [
      "Enter the vehicle type (car, truck, plane, boat, broomstick):  Magic Carpet\n"
     ]
    }
   ],
   "source": [
    "# Superclass Vehicle\n",
    "class Vehicle:\n",
    "    def set_vehicle_type(self):\n",
    "        self.vehicle_type = input(\"Enter the vehicle type (car, truck, plane, boat, broomstick): \")\n",
    "\n",
    "# Subclass Automobile inheriting from Vehicle\n",
    "class Automobile(Vehicle):\n",
    "    def set_details(self):\n",
    "        self.year = input(\"Enter the year of the vehicle: \")\n",
    "        self.make = input(\"Enter the make of the vehicle: \")\n",
    "        self.model = input(\"Enter the model of the vehicle: \")\n",
    "        self.doors = input(\"Enter the number of doors (2 or 4): \")\n",
    "        self.roof = input(\"Enter the type of roof (solid or sun roof): \")\n",
    "\n",
    "    def display_info(self):\n",
    "        print(f\"\\nVehicle type: {self.vehicle_type}\")\n",
    "        print(f\"Year: {self.year}\")\n",
    "        print(f\"Make: {self.make}\")\n",
    "        print(f\"Model: {self.model}\")\n",
    "        print(f\"Number of doors: {self.doors}\")\n",
    "        print(f\"Type of roof: {self.roof}\")\n",
    "\n",
    "# Main function to create and display the Automobile object\n",
    "def main():\n",
    "    car = Automobile()  # Create the Automobile object\n",
    "    car.set_vehicle_type()  # Collect vehicle type input\n",
    "    car.set_details()  # Collect other details for the car\n",
    "    car.display_info()  # Display the entered information\n",
    "\n",
    "if __name__ == \"__main__\":\n",
    "    main()\n",
    "\n"
   ]
  },
  {
   "cell_type": "code",
   "execution_count": null,
   "id": "756375b8-de62-41b5-866d-ec6187711958",
   "metadata": {},
   "outputs": [],
   "source": []
  }
 ],
 "metadata": {
  "kernelspec": {
   "display_name": "Python 3 (ipykernel)",
   "language": "python",
   "name": "python3"
  },
  "language_info": {
   "codemirror_mode": {
    "name": "ipython",
    "version": 3
   },
   "file_extension": ".py",
   "mimetype": "text/x-python",
   "name": "python",
   "nbconvert_exporter": "python",
   "pygments_lexer": "ipython3",
   "version": "3.12.4"
  }
 },
 "nbformat": 4,
 "nbformat_minor": 5
}
